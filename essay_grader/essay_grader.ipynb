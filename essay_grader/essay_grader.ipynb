{
 "cells": [
  {
   "cell_type": "markdown",
   "metadata": {},
   "source": [
    "# Automated Essay Score Generator"
   ]
  },
  {
   "cell_type": "markdown",
   "metadata": {},
   "source": [
    "The objective of this code is to generate the automated scores for the given essays. Based on the problem statement, the only parameter to be used is the essay itself and generate the scores. The generated score is then compared with the given score to study the difference. \n",
    "This goal can be achieved by first efficiently creating appropriate paramenters which would aid in the scoring, then based on the relatively most significant parameters predicting the scores. It is also very important to choose an appropriate algorithm to predict the scores. Hence, the goal is achieved in 2 parts:\n",
    "1. Parameter generation\n",
    "2. Parameter selection and Score prediction"
   ]
  },
  {
   "cell_type": "markdown",
   "metadata": {},
   "source": [
    "## Parameter generation"
   ]
  },
  {
   "cell_type": "markdown",
   "metadata": {},
   "source": [
    "Any machine learning algorithm is as good as the data provided to it. Hence, the most important step for this task is to provide appropriate data to the algorithm. It is important to understand that, it is very difficult for any grader to just look at the essay and grade it without any benchmarks. The process is the same for any machine learning algorithm as well. Here, numerical parameters are chosen quantify different benchmarks for the essay. In an attempt to set quantifiable benchmarks to evaluate the essay, following questions are considered :\n",
    "1. How many words does each essay contain?\n",
    "2. How many sentences does the essay contain?\n",
    "3. Does the essay contain multiple paragraphs?\n",
    "4. What is the average length of a sentence in each essay?\n",
    "5. How many spelling errors are present in each essay?\n",
    "6. How many grammatical sentence errors (context based and other basic grammatical checks) does each essay has?"
   ]
  },
  {
   "cell_type": "markdown",
   "metadata": {},
   "source": [
    "### Code for parameter generation"
   ]
  },
  {
   "cell_type": "markdown",
   "metadata": {},
   "source": [
    "The first step is to import the necessary modules and libraries"
   ]
  },
  {
   "cell_type": "code",
   "execution_count": 8,
   "metadata": {},
   "outputs": [],
   "source": [
    "import sys\n",
    "reload(sys)\n",
    "sys.setdefaultencoding('utf-8')\n",
    "import pandas as pd\n",
    "import nltk\n",
    "import numpy as np\n",
    "import re\n",
    "import grammar_check\n",
    "import csv\n",
    "import matplotlib.pylab as plt\n",
    "from matplotlib.pylab import rcParams\n",
    "rcParams['figure.figsize'] = 12, 4"
   ]
  },
  {
   "cell_type": "markdown",
   "metadata": {},
   "source": [
    "Now the next step is to call functions that would be used to process the essay. Also, it is required to create a corpus for spell check at a later point in time "
   ]
  },
  {
   "cell_type": "code",
   "execution_count": 9,
   "metadata": {},
   "outputs": [],
   "source": [
    "from nltk.corpus import words\n",
    "from nltk.corpus import brown\n",
    "from nltk.corpus import wordnet \n",
    "from nltk.stem.wordnet import WordNetLemmatizer\n",
    "Lem = WordNetLemmatizer()\n",
    "word_set1 = list(set(wordnet.words())) + list(set(words.words())) + list(set(brown.words()))\n",
    "word_set = [x.lower() for x in word_set1]\n",
    "tool = grammar_check.LanguageTool('en-GB')\n",
    "import string\n",
    "printable = set(string.printable)"
   ]
  },
  {
   "cell_type": "code",
   "execution_count": 10,
   "metadata": {},
   "outputs": [],
   "source": [
    "train = pd.read_csv('essay_scoring.csv') #the csv with the essay is loaded"
   ]
  },
  {
   "cell_type": "markdown",
   "metadata": {},
   "source": [
    "Initializing the parameters"
   ]
  },
  {
   "cell_type": "code",
   "execution_count": 11,
   "metadata": {},
   "outputs": [],
   "source": [
    "word_cnt = []\n",
    "sentences = []\n",
    "avg_sent_length = []\n",
    "paragraphs = []\n",
    "spell_errs = []\n",
    "sent_errs = []\n",
    "domain_score = []\n",
    "ess_id = []"
   ]
  },
  {
   "cell_type": "markdown",
   "metadata": {},
   "source": [
    "Defining the function to pre-process the words in the essay for spell check"
   ]
  },
  {
   "cell_type": "code",
   "execution_count": 12,
   "metadata": {},
   "outputs": [],
   "source": [
    "def process_word(string):\n",
    "    string = string.lower()\n",
    "    for sep in [\"'\", \"/\",\"-\",\"(\",\")\", \",\", \".\", \"!\", \"?\", \";\", \":\", \"\\\"\", \" \"]:\n",
    "\tstring = string.split(sep, 1)[0]\n",
    "    string = Lem.lemmatize(string)\n",
    "    return string"
   ]
  },
  {
   "cell_type": "markdown",
   "metadata": {},
   "source": [
    "Defining the function to split sentences from the given essay"
   ]
  },
  {
   "cell_type": "code",
   "execution_count": 13,
   "metadata": {},
   "outputs": [],
   "source": [
    "def process_sent(string): \n",
    "    string = string.lower()\n",
    "    string = filter(lambda x: x in printable, string)\n",
    "    sentence = re.split(\"\\. | \\! | \\?\", string)\n",
    "    return sentence"
   ]
  },
  {
   "cell_type": "markdown",
   "metadata": {},
   "source": [
    "Processing each essay to generate the required parameters"
   ]
  },
  {
   "cell_type": "code",
   "execution_count": 14,
   "metadata": {},
   "outputs": [
    {
     "ename": "KeyboardInterrupt",
     "evalue": "",
     "output_type": "error",
     "traceback": [
      "\u001b[0;31m---------------------------------------------------------------------------\u001b[0m",
      "\u001b[0;31mKeyboardInterrupt\u001b[0m                         Traceback (most recent call last)",
      "\u001b[0;32m<ipython-input-14-a8eec6afda91>\u001b[0m in \u001b[0;36m<module>\u001b[0;34m()\u001b[0m\n\u001b[1;32m     41\u001b[0m         \u001b[0;32mif\u001b[0m \u001b[0mj\u001b[0m\u001b[0;34m.\u001b[0m\u001b[0mstartswith\u001b[0m\u001b[0;34m(\u001b[0m\u001b[0;34m'@'\u001b[0m\u001b[0;34m)\u001b[0m \u001b[0;34m!=\u001b[0m \u001b[0mTrue\u001b[0m\u001b[0;34m:\u001b[0m\u001b[0;34m\u001b[0m\u001b[0m\n\u001b[1;32m     42\u001b[0m             \u001b[0mk\u001b[0m\u001b[0;34m=\u001b[0m \u001b[0mprocess_word\u001b[0m\u001b[0;34m(\u001b[0m\u001b[0mj\u001b[0m\u001b[0;34m)\u001b[0m\u001b[0;34m\u001b[0m\u001b[0m\n\u001b[0;32m---> 43\u001b[0;31m             \u001b[0;32mif\u001b[0m \u001b[0mk\u001b[0m \u001b[0;32min\u001b[0m \u001b[0mword_set\u001b[0m\u001b[0;34m:\u001b[0m\u001b[0;34m\u001b[0m\u001b[0m\n\u001b[0m\u001b[1;32m     44\u001b[0m                 \u001b[0merr_cnt\u001b[0m \u001b[0;34m=\u001b[0m \u001b[0merr_cnt\u001b[0m\u001b[0;34m\u001b[0m\u001b[0m\n\u001b[1;32m     45\u001b[0m             \u001b[0;32melse\u001b[0m\u001b[0;34m:\u001b[0m\u001b[0;34m\u001b[0m\u001b[0m\n",
      "\u001b[0;31mKeyboardInterrupt\u001b[0m: "
     ]
    }
   ],
   "source": [
    "for i in range(train.shape[0]): # for each essay\n",
    "    #preprocessing the essay to ignore non-ascii characters\n",
    "    ess = train.loc[i][2].decode(\"ascii\", errors=\"ignore\").encode()\n",
    "    ess_id.append(train.loc[i][1])\n",
    "    domain_score.append(train.loc[i][5])\n",
    "    #print 'DS = ', domain_score\n",
    "        \n",
    "    #counting number of words \n",
    "    wrd_cnt = len(ess.split(\" \"))\n",
    "    word_cnt.append(wrd_cnt)\n",
    "    \n",
    "    #getting the list of sentences\n",
    "    sentence = process_sent(ess)\n",
    "    \n",
    "    #counting number of sentences\n",
    "    sent_cnt = len(sentence)\n",
    "    sentences.append(sent_cnt)\n",
    "    \n",
    "    #getting the average sentence length\n",
    "    avg_sent_len = wrd_cnt/sent_cnt\n",
    "    avg_sent_length.append(avg_sent_len)\n",
    "    \n",
    "    #getting the number of sentence errors\n",
    "    sent_err_cnt = 0 #initializing sentence error count\n",
    "    \n",
    "    for m in sentence:\n",
    "        try:\n",
    "            sent_err_cnt+=len(tool.check(m))\n",
    "        except:\n",
    "            continue\n",
    "        \n",
    "    sent_errs.append(sent_err_cnt)\n",
    "\n",
    "    #counting number of paragraphs\n",
    "    prgh_cnt = len(ess.split(\"\\n\\n\"))\n",
    "    paragraphs.append(prgh_cnt)\n",
    "\n",
    "    #getting the number of spelling errors\n",
    "    err_cnt = 0 #initializing spelling error count\n",
    "    for j in re.split('\\s| ;| ,| \\*| \\-| \\/| \\n',ess):\n",
    "        if j.startswith('@') != True:\n",
    "            k= process_word(j)\n",
    "            if k in word_set:\n",
    "                err_cnt = err_cnt\n",
    "            else:\n",
    "                err_cnt +=1\n",
    "    spell_errs.append(err_cnt)\n",
    "    \n",
    "    print 'For essay ', (i+1), 'word count = ', wrd_cnt, 'sentence count = ', sent_cnt, 'avg. sentence length = ', avg_sent_len, \\\n",
    "    'paragraph count = ', prgh_cnt, 'spelling errors = ', err_cnt, 'sentence errors = ', sent_err_cnt\n",
    "    "
   ]
  },
  {
   "cell_type": "markdown",
   "metadata": {},
   "source": [
    "#### Output format:\n",
    "\n",
    "For essay  1 word count =  338 sentence count =  10 avg. sentence length =  33 paragraph count =  1 spelling errors =  9 sentence errors =  10\n",
    "\n",
    "For essay  2 word count =  419 sentence count =  18 avg. sentence length =  23 paragraph count =  1 spelling errors =  13 sentence errors =  11\n",
    "\n",
    "For essay  3 word count =  279 sentence count =  14 avg. sentence length =  19 paragraph count =  1 spelling errors =  2 sentence errors =  10\n",
    "\n",
    "For essay  4 word count =  524 sentence count =  23 avg. sentence length =  22 paragraph count =  1 spelling errors =  26 sentence errors =  15\n",
    "\n",
    "For essay  5 word count =  465 sentence count =  30 avg. sentence length =  15 paragraph count =  1 spelling errors =  11 sentence errors =  5\n"
   ]
  },
  {
   "cell_type": "markdown",
   "metadata": {},
   "source": [
    "Since, number of paragraphs in all the essays is 1, it is not considered further. "
   ]
  },
  {
   "cell_type": "code",
   "execution_count": null,
   "metadata": {},
   "outputs": [],
   "source": [
    "with open('parameters.csv', 'wb') as f:\n",
    "\twriter = csv.writer(f)\n",
    "\tfor val in zip(['domain1_score']+domain_score, ['essay_set']+ess_id,['words_count']+word_cnt, ['sentence_count']+sentences, ['avg_sentence_length']+avg_sent_length, ['total_spelling_errors']+spell_errs, ['total_sentence_errors']+ sent_errs):\n",
    "\t\twriter.writerow(val)\t"
   ]
  },
  {
   "cell_type": "markdown",
   "metadata": {},
   "source": [
    "Now since the generating parameters take a lot of time, it is required to store them in the csv file for further usage. The next section deals with selecting appropriate model for predicting the score."
   ]
  },
  {
   "cell_type": "markdown",
   "metadata": {},
   "source": [
    "## Generating the predicted scores\n",
    "\n",
    "The following code uses gradient tree boosting regressor to predict the scores since it has been proved to perform well against relatively smaller dataset with fewer parameters. It also allows for the testing of the significance of the chosen parameters in predicting the final output.\n",
    "\n",
    "For the first step we import required modules and libraries."
   ]
  },
  {
   "cell_type": "code",
   "execution_count": 20,
   "metadata": {},
   "outputs": [],
   "source": [
    "import numpy as np\n",
    "import pandas as pd\n",
    "import random\n",
    "from sklearn.metrics import mean_squared_error,r2_score\n",
    "from sklearn.ensemble import GradientBoostingRegressor\n",
    "import matplotlib.pyplot as plt"
   ]
  },
  {
   "cell_type": "markdown",
   "metadata": {},
   "source": [
    "The next step is to load the parameters."
   ]
  },
  {
   "cell_type": "code",
   "execution_count": 21,
   "metadata": {},
   "outputs": [],
   "source": [
    "df = pd.read_csv('parameters.csv')\n",
    "df = df.fillna(0) "
   ]
  },
  {
   "cell_type": "markdown",
   "metadata": {},
   "source": [
    "Defining the training and testing parameters. And then dividing the data into training and testing sets."
   ]
  },
  {
   "cell_type": "code",
   "execution_count": 22,
   "metadata": {},
   "outputs": [],
   "source": [
    "X = df[['essay_set','words_count', 'sentence_count', 'avg_sentence_length', 'total_spelling_errors', 'total_sentence_errors']]\n",
    "Y = df['domain1_score']\n",
    "rows = random.sample(df.index, int(len(df)*.80))\n",
    "x_train, y_train = X.ix[rows],Y.ix[rows]\n",
    "x_test,y_test  = X.drop(rows),Y.drop(rows)"
   ]
  },
  {
   "cell_type": "markdown",
   "metadata": {},
   "source": [
    "Defining the parameters for the regressor and then for fitting the model 500 trees with each tree having a depth of 6 levels is selected. Also, huber loss is considered as it is less sensitive to outliers in data than the squared error loss."
   ]
  },
  {
   "cell_type": "code",
   "execution_count": 30,
   "metadata": {},
   "outputs": [],
   "source": [
    "params = {'n_estimators': 500, 'max_depth': 6, 'learning_rate': 0.1, 'loss': 'huber','alpha':0.95}\n",
    "clf = GradientBoostingRegressor(**params).fit(x_train, y_train)"
   ]
  },
  {
   "cell_type": "markdown",
   "metadata": {},
   "source": [
    "Once the model is fitted, the next step is to check if the parameters selected are significantly contributing towards the final prediction. Hence, the relative significant scores are evaluated using below snippet."
   ]
  },
  {
   "cell_type": "code",
   "execution_count": 31,
   "metadata": {},
   "outputs": [
    {
     "data": {
      "image/png": "[encoded data removed]",
      "text/plain": [
       "<matplotlib.figure.Figure at 0x7fed1ff438d0>"
      ]
     },
     "metadata": {},
     "output_type": "display_data"
    }
   ],
   "source": [
    "feature_importance = clf.feature_importances_\n",
    "# make importances relative to max importance\n",
    "feature_importance = 100.0 * (feature_importance / feature_importance.max())\n",
    "sorted_idx = np.argsort(feature_importance)\n",
    "pos = np.arange(sorted_idx.shape[0]) + .5\n",
    "plt.figure(figsize=(12, 6))\n",
    "plt.subplot(1, 1, 1)\n",
    "plt.barh(pos, feature_importance[sorted_idx], align='center')\n",
    "plt.yticks(pos, X.columns[sorted_idx])\n",
    "plt.xlabel('Relative Importance')\n",
    "plt.title('Variable Importance')\n",
    "plt.show()"
   ]
  },
  {
   "cell_type": "markdown",
   "metadata": {},
   "source": [
    "It can be observed that all the chosen parametrs contribute significantly towards the final predicted score for each essay. Hence, it was decided to retain all the parameters. It is worth noting that, due to initial round of inspection paragraph count was excluded from the list of parameters. If it was missed during the inspection, it whould be evident from the above snippet to exclude such parameters.\n",
    "\n",
    "To assess the goodness of the fit, the MSE and the R-Squared scores are computed."
   ]
  },
  {
   "cell_type": "code",
   "execution_count": 25,
   "metadata": {},
   "outputs": [],
   "source": [
    "mse = mean_squared_error(y_test, clf.predict(x_test))\n",
    "r2 = r2_score(y_test, clf.predict(x_test))\n",
    "print(\"MSE: %.4f\" % mse)\n",
    "print(\"R2: %.4f\" % r2)"
   ]
  },
  {
   "cell_type": "markdown",
   "metadata": {},
   "source": [
    "The model achieves a decent performance in predicting the final score for the essay with the MSE score of around 3 and R-Squared score of higher 90%."
   ]
  }
 ],
 "metadata": {
  "kernelspec": {
   "display_name": "Python 2",
   "language": "python",
   "name": "python2"
  },
  "language_info": {
   "codemirror_mode": {
    "name": "ipython",
    "version": 2
   },
   "file_extension": ".py",
   "mimetype": "text/x-python",
   "name": "python",
   "nbconvert_exporter": "python",
   "pygments_lexer": "ipython2",
   "version": "2.7.12"
  }
 },
 "nbformat": 4,
 "nbformat_minor": 2
}
